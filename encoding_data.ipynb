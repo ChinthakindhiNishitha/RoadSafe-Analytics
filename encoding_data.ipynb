{
  "nbformat": 4,
  "nbformat_minor": 0,
  "metadata": {
    "colab": {
      "provenance": [],
      "authorship_tag": "ABX9TyPT4JWMrxwRTl5AhIttvG9P",
      "include_colab_link": true
    },
    "kernelspec": {
      "name": "python3",
      "display_name": "Python 3"
    },
    "language_info": {
      "name": "python"
    }
  },
  "cells": [
    {
      "cell_type": "markdown",
      "metadata": {
        "id": "view-in-github",
        "colab_type": "text"
      },
      "source": [
        "<a href=\"https://colab.research.google.com/github/ChinthakindhiNishitha/RoadSafe-Analytics/blob/main/encoding_data.ipynb\" target=\"_parent\"><img src=\"https://colab.research.google.com/assets/colab-badge.svg\" alt=\"Open In Colab\"/></a>"
      ]
    },
    {
      "cell_type": "code",
      "source": [
        "import pandas as pd\n",
        "import numpy as np\n",
        "\n",
        "# Synthetic dataset with categorical and duplicate rows\n",
        "data = {\n",
        "    'City': ['New York', 'Los Angeles', 'New York', 'Chicago', 'Houston', 'Los Angeles', 'Boston', 'Boston', 'Chicago'],\n",
        "    'Weather': ['Sunny', 'Rainy', 'Sunny', 'Cloudy', 'Sunny', 'Rainy', 'Rainy', 'Sunny', 'Cloudy'],\n",
        "    'Severity': [3, 2, 3, 1, 4, 2, 3, 3, 1],\n",
        "    'Accidents': [100, 150, 100, 80, 90, 150, 60, 60, 80]\n",
        "}\n",
        "\n",
        "df = pd.DataFrame(data)\n",
        "print(\"Original Dataset:\")\n",
        "print(df)"
      ],
      "metadata": {
        "colab": {
          "base_uri": "https://localhost:8080/"
        },
        "id": "Vw8XH5v2Qab1",
        "outputId": "20736d26-d281-4731-f957-50632a5a0456"
      },
      "execution_count": 1,
      "outputs": [
        {
          "output_type": "stream",
          "name": "stdout",
          "text": [
            "Original Dataset:\n",
            "          City Weather  Severity  Accidents\n",
            "0     New York   Sunny         3        100\n",
            "1  Los Angeles   Rainy         2        150\n",
            "2     New York   Sunny         3        100\n",
            "3      Chicago  Cloudy         1         80\n",
            "4      Houston   Sunny         4         90\n",
            "5  Los Angeles   Rainy         2        150\n",
            "6       Boston   Rainy         3         60\n",
            "7       Boston   Sunny         3         60\n",
            "8      Chicago  Cloudy         1         80\n"
          ]
        }
      ]
    },
    {
      "cell_type": "code",
      "source": [
        "# Remove duplicate rows\n",
        "df_no_duplicates = df.drop_duplicates()\n",
        "print(\"\\nAfter removing duplicates:\")\n",
        "print(df_no_duplicates)\n"
      ],
      "metadata": {
        "colab": {
          "base_uri": "https://localhost:8080/"
        },
        "id": "1Fg-dTQ3Qera",
        "outputId": "2489f9b6-3a6d-48b3-d0c8-f37b1239ca6d"
      },
      "execution_count": 2,
      "outputs": [
        {
          "output_type": "stream",
          "name": "stdout",
          "text": [
            "\n",
            "After removing duplicates:\n",
            "          City Weather  Severity  Accidents\n",
            "0     New York   Sunny         3        100\n",
            "1  Los Angeles   Rainy         2        150\n",
            "3      Chicago  Cloudy         1         80\n",
            "4      Houston   Sunny         4         90\n",
            "6       Boston   Rainy         3         60\n",
            "7       Boston   Sunny         3         60\n"
          ]
        }
      ]
    },
    {
      "cell_type": "code",
      "source": [
        "# Label Encoding with pandas category dtype\n",
        "df_no_duplicates['City_Encoded'] = df_no_duplicates['City'].astype('category').cat.codes\n",
        "print(\"\\nLabel Encoded 'City' column:\")\n",
        "print(df_no_duplicates[['City', 'City_Encoded']])"
      ],
      "metadata": {
        "colab": {
          "base_uri": "https://localhost:8080/"
        },
        "id": "Clr_gDVrQlFL",
        "outputId": "65b932d6-3758-4598-a3ba-72ab90654cf8"
      },
      "execution_count": 3,
      "outputs": [
        {
          "output_type": "stream",
          "name": "stdout",
          "text": [
            "\n",
            "Label Encoded 'City' column:\n",
            "          City  City_Encoded\n",
            "0     New York             4\n",
            "1  Los Angeles             3\n",
            "3      Chicago             1\n",
            "4      Houston             2\n",
            "6       Boston             0\n",
            "7       Boston             0\n"
          ]
        },
        {
          "output_type": "stream",
          "name": "stderr",
          "text": [
            "/tmp/ipython-input-397821232.py:2: SettingWithCopyWarning: \n",
            "A value is trying to be set on a copy of a slice from a DataFrame.\n",
            "Try using .loc[row_indexer,col_indexer] = value instead\n",
            "\n",
            "See the caveats in the documentation: https://pandas.pydata.org/pandas-docs/stable/user_guide/indexing.html#returning-a-view-versus-a-copy\n",
            "  df_no_duplicates['City_Encoded'] = df_no_duplicates['City'].astype('category').cat.codes\n"
          ]
        }
      ]
    },
    {
      "cell_type": "code",
      "source": [
        "# One-Hot Encoding using pandas get_dummies\n",
        "df_onehot = pd.get_dummies(df_no_duplicates, columns=['Weather'])\n",
        "print(\"\\nOne-Hot Encoded 'Weather' column:\")\n",
        "print(df_onehot.head())"
      ],
      "metadata": {
        "colab": {
          "base_uri": "https://localhost:8080/"
        },
        "id": "YOk2NcUvQpRJ",
        "outputId": "8d8115ec-d2f6-48ae-9902-c397cc796422"
      },
      "execution_count": 4,
      "outputs": [
        {
          "output_type": "stream",
          "name": "stdout",
          "text": [
            "\n",
            "One-Hot Encoded 'Weather' column:\n",
            "          City  Severity  Accidents  City_Encoded  Weather_Cloudy  \\\n",
            "0     New York         3        100             4           False   \n",
            "1  Los Angeles         2        150             3           False   \n",
            "3      Chicago         1         80             1            True   \n",
            "4      Houston         4         90             2           False   \n",
            "6       Boston         3         60             0           False   \n",
            "\n",
            "   Weather_Rainy  Weather_Sunny  \n",
            "0          False           True  \n",
            "1           True          False  \n",
            "3          False          False  \n",
            "4          False           True  \n",
            "6           True          False  \n"
          ]
        }
      ]
    },
    {
      "cell_type": "code",
      "source": [
        "# Detecting and handling outliers in 'Accidents' column using IQR method:\n",
        "\n",
        "Q1 = df_no_duplicates['Accidents'].quantile(0.25)\n",
        "Q3 = df_no_duplicates['Accidents'].quantile(0.75)\n",
        "IQR = Q3 - Q1\n",
        "\n",
        "# Define bounds\n",
        "lower_bound = Q1 - 1.5 * IQR\n",
        "upper_bound = Q3 + 1.5 * IQR\n",
        "\n",
        "# Identify outliers\n",
        "outliers = df_no_duplicates[(df_no_duplicates['Accidents'] < lower_bound) | (df_no_duplicates['Accidents'] > upper_bound)]\n",
        "print(\"\\nDetected outliers:\")\n",
        "print(outliers)\n",
        "# Option 1: Remove outliers\n",
        "df_no_outliers = df_no_duplicates[(df_no_duplicates['Accidents'] >= lower_bound) & (df_no_duplicates['Accidents'] <= upper_bound)]\n",
        "print(\"\\nDataset after removing outliers:\")\n",
        "print(df_no_outliers)\n",
        "\n",
        "# Option 2: Cap outliers (winsorizing)\n",
        "df_capped = df_no_duplicates.copy()\n",
        "df_capped['Accidents'] = np.where(df_capped['Accidents'] > upper_bound, upper_bound,\n",
        "                                  np.where(df_capped['Accidents'] < lower_bound, lower_bound, df_capped['Accidents']))\n",
        "print(\"\\nDataset after capping outliers:\")\n",
        "print(df_capped)\n"
      ],
      "metadata": {
        "colab": {
          "base_uri": "https://localhost:8080/"
        },
        "id": "7MpGMqbIQvR1",
        "outputId": "bec9a55f-48a5-4803-c0be-488543721b97"
      },
      "execution_count": 5,
      "outputs": [
        {
          "output_type": "stream",
          "name": "stdout",
          "text": [
            "\n",
            "Detected outliers:\n",
            "          City Weather  Severity  Accidents  City_Encoded\n",
            "1  Los Angeles   Rainy         2        150             3\n",
            "\n",
            "Dataset after removing outliers:\n",
            "       City Weather  Severity  Accidents  City_Encoded\n",
            "0  New York   Sunny         3        100             4\n",
            "3   Chicago  Cloudy         1         80             1\n",
            "4   Houston   Sunny         4         90             2\n",
            "6    Boston   Rainy         3         60             0\n",
            "7    Boston   Sunny         3         60             0\n",
            "\n",
            "Dataset after capping outliers:\n",
            "          City Weather  Severity  Accidents  City_Encoded\n",
            "0     New York   Sunny         3     100.00             4\n",
            "1  Los Angeles   Rainy         2     146.25             3\n",
            "3      Chicago  Cloudy         1      80.00             1\n",
            "4      Houston   Sunny         4      90.00             2\n",
            "6       Boston   Rainy         3      60.00             0\n",
            "7       Boston   Sunny         3      60.00             0\n"
          ]
        }
      ]
    },
    {
      "cell_type": "code",
      "source": [
        "import matplotlib.pyplot as plt\n",
        "import seaborn as sns\n",
        "\n",
        "plt.figure(figsize=(8, 5))\n",
        "sns.boxplot(x=df_no_duplicates['Accidents'], color=\"skyblue\")\n",
        "plt.title(\"Boxplot of 'Accidents' with Outliers\")\n",
        "plt.xlabel(\"Accidents\")\n",
        "plt.show()\n"
      ],
      "metadata": {
        "colab": {
          "base_uri": "https://localhost:8080/",
          "height": 487
        },
        "id": "S4vUYYrsRAc0",
        "outputId": "38848bb2-5142-49f7-f1b6-eef4dab61943"
      },
      "execution_count": 6,
      "outputs": [
        {
          "output_type": "display_data",
          "data": {
            "text/plain": [
              "<Figure size 800x500 with 1 Axes>"
            ],
            "image/png": "[encoded data removed]"
          },
          "metadata": {}
        }
      ]
    }
  ]
}